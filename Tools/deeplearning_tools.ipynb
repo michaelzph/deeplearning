{
 "cells": [
  {
   "cell_type": "markdown",
   "metadata": {},
   "source": [
    "## 工欲善其事 必先利其器--深度学习框架大比拼"
   ]
  },
  {
   "cell_type": "markdown",
   "metadata": {},
   "source": [
    "## 目录"
   ]
  },
  {
   "cell_type": "markdown",
   "metadata": {},
   "source": [
    "* 一 主流框架概况 \n",
    "* 二 主流框架简介\n",
    "* 三 框架性能比拼 \n",
    "* 四 入门选择 \n",
    "* 五 Get your hands dirty"
   ]
  },
  {
   "cell_type": "markdown",
   "metadata": {},
   "source": [
    "## 一 主流框架概况"
   ]
  },
  {
   "cell_type": "markdown",
   "metadata": {},
   "source": [
    "主流框架在github上的情况"
   ]
  },
  {
   "cell_type": "markdown",
   "metadata": {},
   "source": [
    "框架 | 机构 | 支持语言 | Starts | Forks | Contributors\n",
    "---- | --- | --- | --- | --- | --- | --- \n",
    "Tensorflow | Google | Python/C++/Go/... | 81219 | 39871 | 1187 \n",
    "Keras | fchollet | Python | 22719 | 8290 | 578 \n",
    "Caffe | BVLC | C++/Python | 21683 | 13322 | 254\n",
    "CNTK | Microsoft | C++ | 13345 | 3472 | 157\n",
    "MXNet | DMLC | Python/C++/R/...| 12366 | 4554 | 452 \n",
    "Deeplearning4J | DeepLeawrning4J | Java/Scala | 7852 | 3863 | 133\n",
    "Torch7 | Facebook | Lua | 7535 | 2209 | 133 \n",
    "Theano | U.Montreal | Python | 7398 | 2352 | 326 \n",
    "PaddlePaddle | Baidu | Python | 5997 | 1572 | 88 \n"
   ]
  },
  {
   "cell_type": "markdown",
   "metadata": {},
   "source": [
    "## 二 各个框架简介"
   ]
  },
  {
   "cell_type": "markdown",
   "metadata": {},
   "source": [
    "### 1. Tensorflow"
   ]
  },
  {
   "cell_type": "markdown",
   "metadata": {},
   "source": [
    "An open-source software library for Machine Intelligence"
   ]
  },
  {
   "cell_type": "markdown",
   "metadata": {},
   "source": [
    "* github: https://github.com/tensorflow/tensorflow  \n",
    "* 官网: https://www.tensorflow.org/ 或者 https://tensorflow.google.cn/ \n",
    "* [游乐场](http://playground.tensorflow.org/)"
   ]
  },
  {
   "cell_type": "markdown",
   "metadata": {},
   "source": [
    "#### Tensorflow 特性"
   ]
  },
  {
   "cell_type": "markdown",
   "metadata": {},
   "source": [
    "* ##### 高度灵活性 \n",
    "Tensorflow 是一个采用数据流图用于数值计算的开源软件库.TensorFlow并不只是一个规则的neural network库,事实上如果你可以将你的计算表示成data flow graph的形式,就可以使用TensorFlow.用户构建graph.写内层循环代码驱动计算,TensorFlow可以帮助装配子图.定义新的操作只需要写一个Python函数,如果缺少底层的数据操作,需要写一些C++代码定义操作.\n"
   ]
  },
  {
   "cell_type": "markdown",
   "metadata": {},
   "source": [
    "* ##### 真正的可移植性 \n",
    "可以应用在不同设备上,cpus,gpu,移动设备,云平台等"
   ]
  },
  {
   "cell_type": "markdown",
   "metadata": {},
   "source": [
    "* ##### 将科研和产品结合在一起 \n",
    "Tensorflow 提供来一个快速试验的框架,可以尝试新的算法,并训练出模型,大大提高了科研产出率."
   ]
  },
  {
   "cell_type": "markdown",
   "metadata": {},
   "source": [
    "* ##### 自动求微分 \n",
    "求微分是基于梯度的机器学习算法的重要的一步.Tensorflow中,只需要定义预测模型的结构和目标函数,将两者结合在一起后,添加相应的数据,Tensorflow会自动完成计算微分操作."
   ]
  },
  {
   "cell_type": "markdown",
   "metadata": {},
   "source": [
    "* ##### 多语言支持 \n",
    "Tensorflow 提供了Python,C++,Java,Go的接口."
   ]
  },
  {
   "cell_type": "markdown",
   "metadata": {},
   "source": [
    "* ##### 最优化性能 \n",
    "Tensorflow 给予线程,队列,分布式计算支持,可以让用户将Tensorflow的数据流图上的不同计算元素分配到不同的设备上,最大化利用硬件资源."
   ]
  },
  {
   "cell_type": "markdown",
   "metadata": {},
   "source": [
    "### 2. Keras "
   ]
  },
  {
   "cell_type": "markdown",
   "metadata": {},
   "source": [
    "The Python Deep Learning library"
   ]
  },
  {
   "cell_type": "markdown",
   "metadata": {},
   "source": [
    "* github: https://github.com/fchollet/keras \n",
    "* 官网: https://keras.io/"
   ]
  },
  {
   "cell_type": "markdown",
   "metadata": {},
   "source": [
    "Keras 是一个崇尚极简,高度模块化的神经网络库,使用Python实现,并可以同时运行在Tensorflow,CNTK和Theano上."
   ]
  },
  {
   "cell_type": "markdown",
   "metadata": {},
   "source": [
    "#### Keras特点"
   ]
  },
  {
   "cell_type": "markdown",
   "metadata": {},
   "source": [
    "* 提供了方便的API,用户只需要将高级的模块拼在一起,就可以设计神经网络,大大降低了变成开销."
   ]
  },
  {
   "cell_type": "markdown",
   "metadata": {},
   "source": [
    "* 模块简介,易懂,可以快速进行原型实验,让想法变为结果的过程缩短"
   ]
  },
  {
   "cell_type": "markdown",
   "metadata": {},
   "source": [
    "### 3. MXNet"
   ]
  },
  {
   "cell_type": "markdown",
   "metadata": {},
   "source": [
    "A flexible and efficient library for deep learning."
   ]
  },
  {
   "cell_type": "markdown",
   "metadata": {},
   "source": [
    "* github: https://github.com/apache/incubator-mxnet\n",
    "* 官网: http://mxnet.incubator.apache.org/index.html"
   ]
  },
  {
   "cell_type": "markdown",
   "metadata": {},
   "source": [
    "#### MXNet 特点"
   ]
  },
  {
   "cell_type": "markdown",
   "metadata": {},
   "source": [
    "* 轻量级,可移植,灵活,让用户可以混合使用符号编程和指令是编程."
   ]
  },
  {
   "cell_type": "markdown",
   "metadata": {},
   "source": [
    "* 在各个框架中率先支持多GPU和分布式,分布式性能极高."
   ]
  },
  {
   "cell_type": "markdown",
   "metadata": {},
   "source": [
    "* 支持自动将计算任务并行化到多个GPU或分布式集群(支持AWS,Azure,Yarn等)"
   ]
  },
  {
   "cell_type": "markdown",
   "metadata": {},
   "source": [
    "* 提供多语言接口,C++,Python,R,Julia,Scala,Go,MATLAB,JavaScript等."
   ]
  },
  {
   "cell_type": "markdown",
   "metadata": {},
   "source": [
    "### 4. Caffe "
   ]
  },
  {
   "cell_type": "markdown",
   "metadata": {},
   "source": [
    "* Github:https://github.com/BVLC/caffe \n",
    "* 官网: http://caffe.berkeleyvision.org/"
   ]
  },
  {
   "cell_type": "markdown",
   "metadata": {},
   "source": [
    "#### Caffe 特点"
   ]
  },
  {
   "cell_type": "markdown",
   "metadata": {},
   "source": [
    "* **表达方便** 网络结构都是以配置文件形式定义,不需要用代码设计网络."
   ]
  },
  {
   "cell_type": "markdown",
   "metadata": {},
   "source": [
    "* **训练速度快** 能够训练 state-of-the-art 的模型与大规模的数据"
   ]
  },
  {
   "cell_type": "markdown",
   "metadata": {},
   "source": [
    "* **组件模块化** 可以方便地拓展到新的模型和学习任务上"
   ]
  },
  {
   "cell_type": "markdown",
   "metadata": {},
   "source": [
    "* **开放性** 拥有大量训练好的模型(Model Zoo)以及其他state-of-the-art(ResNet等)模型"
   ]
  },
  {
   "cell_type": "markdown",
   "metadata": {},
   "source": [
    "### 5. CNTK"
   ]
  },
  {
   "cell_type": "markdown",
   "metadata": {},
   "source": [
    "* github: https://github.com/microsoft/cntk\n",
    "* 官网: https://www.microsoft.com/en-us/cognitive-toolkit/"
   ]
  },
  {
   "cell_type": "markdown",
   "metadata": {},
   "source": [
    "#### CNTK特点"
   ]
  },
  {
   "cell_type": "markdown",
   "metadata": {},
   "source": [
    "* **高度优化** 让大规模并行训练有了很高的效率"
   ]
  },
  {
   "cell_type": "markdown",
   "metadata": {},
   "source": [
    "* **资源高效利用** 利用内存共享和内置的其他方法,使得庞大的模型能够很好利用GPU内存."
   ]
  },
  {
   "cell_type": "markdown",
   "metadata": {},
   "source": [
    "* **易用性** 从网络定义,模型训练,数据读取,模型评估,都有完善的Python,C++的API"
   ]
  },
  {
   "cell_type": "markdown",
   "metadata": {},
   "source": [
    "### 6. Deeplearning4J"
   ]
  },
  {
   "cell_type": "markdown",
   "metadata": {},
   "source": [
    "Open-Source, Distributed, Deep Learning Library for the JVM"
   ]
  },
  {
   "cell_type": "markdown",
   "metadata": {},
   "source": [
    "* Github: https://github.com/deeplearning4j/deeplearning4j\n",
    "* 官网: https://deeplearning4j.org/"
   ]
  },
  {
   "cell_type": "markdown",
   "metadata": {},
   "source": [
    "#### Deeplearning4J特点"
   ]
  },
  {
   "cell_type": "markdown",
   "metadata": {},
   "source": [
    "* 基于Java和Scala的开源分布式深度学习库"
   ]
  },
  {
   "cell_type": "markdown",
   "metadata": {},
   "source": [
    "* 可以与Hadoop及Spark自动整合,同时可以方便地在现有集群上进行扩展"
   ]
  },
  {
   "cell_type": "markdown",
   "metadata": {},
   "source": [
    "* 拥有丰富的Library支持"
   ]
  },
  {
   "cell_type": "markdown",
   "metadata": {},
   "source": [
    "### 7. Torch7"
   ]
  },
  {
   "cell_type": "markdown",
   "metadata": {},
   "source": [
    "A SCIENTIFIC COMPUTING FRAMEWORK FOR LUAJIT"
   ]
  },
  {
   "cell_type": "markdown",
   "metadata": {},
   "source": [
    "* Github: https://github.com/torch/torch7 \n",
    "* 官网: http://torch.ch/"
   ]
  },
  {
   "cell_type": "markdown",
   "metadata": {},
   "source": [
    "#### Torch7特点"
   ]
  },
  {
   "cell_type": "markdown",
   "metadata": {},
   "source": [
    "* **性能优越** 使用Lua语言,通过透明的JIT优化到C性能的80%"
   ]
  },
  {
   "cell_type": "markdown",
   "metadata": {},
   "source": [
    "* **上手容易** Lua语法简单易读,结构统一,易于掌握"
   ]
  },
  {
   "cell_type": "markdown",
   "metadata": {},
   "source": [
    "* **移植性强** 底层核心基于C,方便地移植到各种环境"
   ]
  },
  {
   "cell_type": "markdown",
   "metadata": {},
   "source": [
    "### 8. Theano "
   ]
  },
  {
   "cell_type": "markdown",
   "metadata": {},
   "source": [
    "* Github: https://github.com/theano/theano \n",
    "* 官网: http://www.deeplearning.net/software/theano/"
   ]
  },
  {
   "cell_type": "markdown",
   "metadata": {},
   "source": [
    "#### Theano特点"
   ]
  },
  {
   "cell_type": "markdown",
   "metadata": {},
   "source": [
    "* 集成Numpy,可以直接使用Numpy的ndarray,API接口学习成本低."
   ]
  },
  {
   "cell_type": "markdown",
   "metadata": {},
   "source": [
    "* 计算稳定性好,可以精确地计算输出值很小的函数(比如log(1+x))."
   ]
  },
  {
   "cell_type": "markdown",
   "metadata": {},
   "source": [
    "* 动态地生成C或者CUDA代码,用以编译成高效的机器代码"
   ]
  },
  {
   "cell_type": "markdown",
   "metadata": {},
   "source": [
    "### 三 框架比较"
   ]
  },
  {
   "cell_type": "markdown",
   "metadata": {},
   "source": [
    "#### 1. 网络和模型能力"
   ]
  },
  {
   "cell_type": "markdown",
   "metadata": {},
   "source": [
    "* **Caffe** 可能是第一个主流的工业级深度学习工具,它开始于2013年底,具有出色的卷积神经网络实现,在计算机视觉领域Caffe依然是最流行的工具包,它有很多扩展,但是由于一些遗留的架构问题,它对递归网络和语言建模的支持很差.此外,在Caffe中图层需要使用C++定义,而网络则使用Protobuf定义.\n",
    "CNTK由深度学习热潮的发起演讲人创建,目前已经发展成一个通用的、平台独立的深度学习系统.在CNTK中,网络会被指定为向量运算的符号图,运算的组合会形成层,CNTK通过细粒度的构件块让用户不需要使用低层次的语言就能创建新的、复杂的层类型.\n"
   ]
  },
  {
   "cell_type": "markdown",
   "metadata": {},
   "source": [
    "* **TensorFlow** 是一个理想的RNN（递归神经网络） API的实现,TensorFlow使用了向量运算的符号图方法,使得新网络的指定变得相当容易,但TensorFlow并不支持双向RNN和3D卷积,同时公共版本的图定义也不支持循环和条件控制,这使得RNN的实现并不理想,因为必须要使用Python循环且无法进行图编译优化."
   ]
  },
  {
   "cell_type": "markdown",
   "metadata": {},
   "source": [
    "* **Theano** 支持大部分先进的网络,现在的很多研究想法都来源于Theano,它引领了符号图在编程网络中使用的趋势.Theano的符号API支持循环控制,让RNN的实现更加容易且高效."
   ]
  },
  {
   "cell_type": "markdown",
   "metadata": {},
   "source": [
    "* **Torch** 对卷积网络的支持非常好.在TensorFlow和Theano中时域卷积可以通过conv2d来实现,但这样做有点取巧;Torch通过时域卷积的本地接口使得它的使用非常直观.Torch通过很多非官方的扩展支持大量的RNN,同时网络的定义方法也有很多种.但Torch本质上是以图层的方式定义网络的,这种粗粒度的方式使得它对新图层类型的扩展缺乏足够的支持.与Caffe相比,在Torch中定义新图层非常容易,不需要使用C++编程,图层和网络定义方式之间的区别最小."
   ]
  },
  {
   "cell_type": "markdown",
   "metadata": {},
   "source": [
    "#### 2. 接口"
   ]
  },
  {
   "cell_type": "markdown",
   "metadata": {},
   "source": [
    "* **Caffe** 支持pycaffe接口,但这仅仅是用来辅助命令行接口的,而即便是使用pycaffe也必须使用protobuf定义模型."
   ]
  },
  {
   "cell_type": "markdown",
   "metadata": {},
   "source": [
    "* **CNTK** 的使用方式与Caffe相似,也是通过指定配置文件并运行命令行,但CNTK没有Python或者任何其他高级语言的接口."
   ]
  },
  {
   "cell_type": "markdown",
   "metadata": {},
   "source": [
    "* **TensorFlow** 支持Python和C++两种类型的接口.用户可以在一个相对丰富的高层环境中做实验并在需要本地代码或低延迟的环境中部署模型."
   ]
  },
  {
   "cell_type": "markdown",
   "metadata": {},
   "source": [
    "* **Theano** 支持Python接口."
   ]
  },
  {
   "cell_type": "markdown",
   "metadata": {},
   "source": [
    "* **Torch** 运行在LuaJIT上,与C++、C# 以及Java等工业语言相比速度非常快,用户能够编写任意类型的计算,不需要担心性能,唯一的问题就是Lua并不是主流的语言."
   ]
  },
  {
   "cell_type": "markdown",
   "metadata": {},
   "source": [
    "#### 3. 性能"
   ]
  },
  {
   "cell_type": "markdown",
   "metadata": {},
   "source": [
    "在单GPU的场景下,所有这些工具集都调用了cuDNN,因此只要外层的计算或者内存分配差异不大其表现都差不多.性能测试是基于Soumith@FB的ConvNets基准测试来做的."
   ]
  },
  {
   "cell_type": "markdown",
   "metadata": {},
   "source": [
    "* **Caffe** 简单快速."
   ]
  },
  {
   "cell_type": "markdown",
   "metadata": {},
   "source": [
    "* **CNTK** 简单快速."
   ]
  },
  {
   "cell_type": "markdown",
   "metadata": {},
   "source": [
    "* **TensorFlow** 仅使用了cuDNN v2,但即使如此它的性能依然要比同样使用cuDNNv2的Torch要慢1.5倍,并且在批大小为128时训练GoogleNet还出现了内存溢出的问题."
   ]
  },
  {
   "cell_type": "markdown",
   "metadata": {},
   "source": [
    "* **Theano** 在大型网络上的性能与Torch7不相上下.但它的主要问题是启动时间特别长,因为它需要将C/CUDA代码编译成二进制,而TensorFlow并没有这个问题.此外,Theano的导入也会消耗时间,并且在导入之后无法摆脱预配置的设备（例如GPU0）."
   ]
  },
  {
   "cell_type": "markdown",
   "metadata": {},
   "source": [
    "* **Torch7** 非常好,没有TensorFlow和Theano的问题."
   ]
  },
  {
   "cell_type": "markdown",
   "metadata": {},
   "source": [
    "另外,在多GPU方面,CNTK相较于其他的深度学习工具包表现更好,它实现了1-bitSGD和自适应的minibatching."
   ]
  },
  {
   "cell_type": "markdown",
   "metadata": {},
   "source": [
    "#### 4. 部署"
   ]
  },
  {
   "cell_type": "markdown",
   "metadata": {},
   "source": [
    "* **Caffe** 是基于C++的,因此可以在多种设备上编译,具有跨平台性,在部署方面是最佳选择."
   ]
  },
  {
   "cell_type": "markdown",
   "metadata": {},
   "source": [
    "* **CNTK** 与Caffe一样也是基于C++并且跨平台的,大部分情况下部署非常简单.但是它不支持ARM架构,这限制了它在移动设备上的能力."
   ]
  },
  {
   "cell_type": "markdown",
   "metadata": {},
   "source": [
    "* **TensorFlow** 支持C++接口,同时由于它使用了Eigen而不是BLAS类库,所以能够基于ARM架构编译和优化.TensorFlow的用户能够将训练好的模型部署到多种设备上,不需要实现单独的模型解码器或者加载Python/LuaJIT解释器.但是TensorFlow并不支持Windows,因此其模型无法部署到Windows设备上."
   ]
  },
  {
   "cell_type": "markdown",
   "metadata": {},
   "source": [
    "* **Theano** 缺少底层的接口,并且其Python解释器也很低效,对工业用户而言缺少吸引力.虽然对大的模型其Python开销并不大,但它的限制摆在那,唯一的亮点就是它跨平台,模型能够部署到Windows环境上."
   ]
  },
  {
   "cell_type": "markdown",
   "metadata": {},
   "source": [
    "* **Torch** 的模型运行需要LuaJIT的支持,虽然这样做对性能的影响并不大,但却对集成造成了很大的障碍,使得它的吸引力不如Caffe/CNTK/TensorFlow等直接支持C++的框架."
   ]
  },
  {
   "cell_type": "markdown",
   "metadata": {},
   "source": [
    "#### 5. 架构"
   ]
  },
  {
   "cell_type": "markdown",
   "metadata": {},
   "source": [
    "* **Caffe** 的架构在现在看来算是平均水准,它的主要痛点是图层需要使用C++定义,而模型需要使用protobuf定义.另外,如果想要支持CPU和GPU,用户还必须实现额外的函数,例如Forward_gpu和Backward_gpu;对于自定义的层类型,还必须为其分配一个int类型的id,并将其添加到proto文件中."
   ]
  },
  {
   "cell_type": "markdown",
   "metadata": {},
   "source": [
    "* **TensorFlow** 的架构清晰,采用了模块化设计,支持多种前端和执行平台."
   ]
  },
  {
   "cell_type": "markdown",
   "metadata": {},
   "source": [
    "* **Theano** 的架构比较变态,它的整个代码库都是Python的,就连C/CUDA代码也要被打包为Python字符串,这使得它难以导航、调试、重构和维护."
   ]
  },
  {
   "cell_type": "markdown",
   "metadata": {},
   "source": [
    "* **Torch7** 和nn类库拥有清晰的设计和模块化的接口."
   ]
  },
  {
   "cell_type": "markdown",
   "metadata": {},
   "source": [
    "#### 6. 跑个分?"
   ]
  },
  {
   "cell_type": "markdown",
   "metadata": {},
   "source": [
    "[更多](https://github.com/ilkarman/DeepLearningFrameworks)"
   ]
  },
  {
   "cell_type": "markdown",
   "metadata": {},
   "source": [
    "* **目的** 测试代码并非专门为深读学习性能而编写,仅简单比较各个框架之间的性能差异."
   ]
  },
  {
   "cell_type": "markdown",
   "metadata": {},
   "source": [
    "* 硬件配置"
   ]
  },
  {
   "cell_type": "markdown",
   "metadata": {},
   "source": [
    "硬件配置 | 说明\n",
    "---- | ---\n",
    "平台 | Microsoft Azure\n",
    "Cores | 6 (ES-2690v3)\n",
    "GPU | 1xK80 GPU (1/2 Phsical Card)\n",
    "Memory | 56 GB \n",
    "Disk | 380 GB SSD"
   ]
  },
  {
   "cell_type": "markdown",
   "metadata": {},
   "source": [
    "* **6.1** CIFAR-10 数据集上训练CNN(VGG)网络"
   ]
  },
  {
   "cell_type": "markdown",
   "metadata": {},
   "source": [
    "* 数据集简介--该模型的输入是标准的CIFAR-10数据集,包含五万个训练图像和一万个测试图像,均匀分布在10个类别中.每个32×32像素的图像转化为张量的形式(3,32,32),像素值从0-255归一化到0-1."
   ]
  },
  {
   "cell_type": "markdown",
   "metadata": {},
   "source": [
    "* 性能对比--图像识别"
   ]
  },
  {
   "cell_type": "markdown",
   "metadata": {},
   "source": [
    "|    DL Library    | Test Accuracy(%) | Training Times(s)\n",
    "| ---------- | :---: |:------------------:|:-----------------:\n",
    "| MXNet | 77 | 145 |\n",
    "| Caffe2 | 79 | 148 |\n",
    "| Gluon | 76 | 152 |  \n",
    "| Knet(Julia) | 78 | 153 |  \n",
    "| Chainer | 79 | 162 |\n",
    "| CNTK | 78 | 163 |\n",
    "| PyTorch | 78 | 169 |\n",
    "| Tensorflow | 78 | 173 |\n",
    "| Keras(CNTK) | 77 | 194 |\n",
    "| Keras(TF) | 77 | 241 |\n",
    "| Lasagne(Theano) | 77 | 253 |\n",
    "| Keras(Theano) | 78 | 269 |"
   ]
  },
  {
   "cell_type": "markdown",
   "metadata": {},
   "source": [
    "* **6.2** 在IMDB数据集上训练RNN（GRU,门控循环单元）"
   ]
  },
  {
   "cell_type": "markdown",
   "metadata": {},
   "source": [
    "* 数据集简介--这个模型的输入是标准的IMDB电影评论数据集,包含两万五千个训练评论和两万五千个测试评论,统一分为2个等级(正面/负面)."
   ]
  },
  {
   "cell_type": "markdown",
   "metadata": {},
   "source": [
    "* 性能对比--自然语言处理(情感分析)"
   ]
  },
  {
   "cell_type": "markdown",
   "metadata": {},
   "source": [
    "|    DL Library    | Test Accuracy(%) | Training Times(s) | Using cuDNN?\n",
    "| ---------- | :---: |:------------------:|:-----------------:|------------\n",
    "| MXNet | 86 | 29 | Yes |\n",
    "| PyTorch | 86 | 31 | Yes\n",
    "| Knet(Julia) | 85 | 30 | Yes\n",
    "| Tensorflow | 86 | 30 | Yes\n",
    "| CNTK | 85 | 32 | Yes\n",
    "| Keras(TF) | 86 | 35 | Yes\n",
    "| Keras(CNTK) | 86 | 86 | No Available"
   ]
  },
  {
   "cell_type": "markdown",
   "metadata": {},
   "source": [
    "* **6.3** ResNet50 (特征提取)推断性能对比"
   ]
  },
  {
   "cell_type": "markdown",
   "metadata": {},
   "source": [
    "|    DL Library    | Images/s GPU | Images/s CPU\n",
    "| ---------- | :---: |:------------------:\n",
    "| Tensorflow | 155 | 11 |\n",
    "| MXNet(w/mkl) | 129 | 25 |\n",
    "| MXNet | 130 | 8 |\n",
    "| PyTorch | 130 | 6 |\n",
    "| CNTK | 117 | 8 |\n",
    "| Chainer | 107 | 3 |\n",
    "| Keras(TF) | 98 | 5 |\n",
    "| Caffe2 | 71 | 6 |\n",
    "| Keras(CNTK) | 46 | 4 |"
   ]
  },
  {
   "cell_type": "markdown",
   "metadata": {},
   "source": [
    "结论:亚马逊MXNet在CNN、RNN与NLP情感分析任务上性能强劲,而TensorFlow仅擅长于特征提取."
   ]
  },
  {
   "cell_type": "markdown",
   "metadata": {
    "collapsed": true
   },
   "source": [
    "### 4. 入门选择"
   ]
  },
  {
   "cell_type": "markdown",
   "metadata": {},
   "source": [
    "#### 深度学习开源平台的5个参考标准"
   ]
  },
  {
   "cell_type": "markdown",
   "metadata": {},
   "source": [
    "**标准 1: **与现有编程平台、技能整合的难易程度"
   ]
  },
  {
   "cell_type": "markdown",
   "metadata": {},
   "source": [
    "* 是否需要专门为此学习一种新语言？\n",
    "\n",
    "* 是否能与当前已有的编程语言结合？"
   ]
  },
  {
   "cell_type": "markdown",
   "metadata": {},
   "source": [
    "**标准 2:** 和相关机器学习、数据处理生态整合的紧密程度"
   ]
  },
  {
   "cell_type": "markdown",
   "metadata": {},
   "source": [
    "* 建模之前，是否具有方便的数据预处理工具？当然大多平台都自身带了图像、文本等预处理工具.\n",
    "\n",
    "* 建模之后，是否具有方便的工具进行结果分析，例如可视化、统计推断、数据分析？"
   ]
  },
  {
   "cell_type": "markdown",
   "metadata": {},
   "source": [
    "** 标准 3: **通过此平台做深度学习之外，还能做什么？"
   ]
  },
  {
   "cell_type": "markdown",
   "metadata": {},
   "source": [
    "* 不少平台是专门为深度学习研究和应用进行开发的,不少平台对分布式计算、GPU 等构架都有强大的优化,能否用这些平台/软件做其他事情？"
   ]
  },
  {
   "cell_type": "markdown",
   "metadata": {},
   "source": [
    "** 标准 4: **对数据量、硬件的要求和支持"
   ]
  },
  {
   "cell_type": "markdown",
   "metadata": {},
   "source": [
    "* 深度学习在不同应用场景的数据量是不一样的,这也就导致我们可能需要考虑分布式计算、多 GPU 计算的问题"
   ]
  },
  {
   "cell_type": "markdown",
   "metadata": {},
   "source": [
    "** 标准 5: **深度学习平台的成熟程度"
   ]
  },
  {
   "cell_type": "markdown",
   "metadata": {},
   "source": [
    "* 社区的活跃程度;是否容易和开发人员进行交流;当前应用的势头."
   ]
  },
  {
   "cell_type": "markdown",
   "metadata": {},
   "source": [
    "#### 功能侧重点"
   ]
  },
  {
   "cell_type": "markdown",
   "metadata": {},
   "source": [
    "* 第一类是以 Caffe, Torch, MXNet, CNTK 为主的**深度学习功能性平台**.这类平台提供了非常完备的基本模块,可以让开发人员快速创建深度神经网络模型并且开始训练,可以解决现今深度学习中的大多数问题.但是这些模块很少将底层运算功能直接暴露给用户."
   ]
  },
  {
   "cell_type": "markdown",
   "metadata": {},
   "source": [
    "* 第二类是以 Keras 为主的**深度学习抽象化平台**.Keras 本身并不具有底层运算协调的能力,Keras 依托于 TensorFlow 或者 Theano 进行底层运算,而 Keras 自身提供神经网络模块抽象化和训练中的流程优化.可以让用户享受快速建模的同时,具有很方便的二次开发能力,加入自己喜欢的模块."
   ]
  },
  {
   "cell_type": "markdown",
   "metadata": {},
   "source": [
    "* 第三类是 TensorFlow.TensorFlow 吸取了已有平台的长处,既能让用户触碰底层数据,又具有现成的神经网络模块,可以让用户非常快速的实现建模.TensorFlow 是非常优秀的跨界平台."
   ]
  },
  {
   "cell_type": "markdown",
   "metadata": {},
   "source": [
    "* 第四类是 Theano, Theano 是深度学习界最早的平台软件,专注底层基本的运算."
   ]
  },
  {
   "cell_type": "markdown",
   "metadata": {},
   "source": [
    "#### 选择"
   ]
  },
  {
   "cell_type": "markdown",
   "metadata": {},
   "source": [
    "* 如果任务目标非常确定,只需要短平快出结果,那么第 1 类平台会适合你.\n",
    "\n",
    "* 如果您需要进行一些底层开发,又不想失去现有模块的方便,那么第 2、3 类平台会适合你.\n",
    "\n",
    "* 如果你有统计、计算数学等背景,想利用已有工具进行一些计算性开发,那么第 3、4 类会适合你."
   ]
  },
  {
   "cell_type": "markdown",
   "metadata": {},
   "source": [
    "### 5. Get your hands dirty"
   ]
  },
  {
   "cell_type": "markdown",
   "metadata": {},
   "source": [
    " *撸起袖子加油干 !*"
   ]
  }
 ],
 "metadata": {
  "anaconda-cloud": {},
  "kernelspec": {
   "display_name": "Python [default]",
   "language": "python",
   "name": "python3"
  },
  "language_info": {
   "codemirror_mode": {
    "name": "ipython",
    "version": 3
   },
   "file_extension": ".py",
   "mimetype": "text/x-python",
   "name": "python",
   "nbconvert_exporter": "python",
   "pygments_lexer": "ipython3",
   "version": "3.5.2"
  }
 },
 "nbformat": 4,
 "nbformat_minor": 1
}
